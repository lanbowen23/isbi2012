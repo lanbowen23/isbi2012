{
 "cells": [
  {
   "cell_type": "code",
   "execution_count": 1,
   "metadata": {
    "jupyter": {
     "source_hidden": true
    }
   },
   "outputs": [
    {
     "name": "stderr",
     "output_type": "stream",
     "text": [
      "Using TensorFlow backend.\n",
      "Done\n"
     ]
    }
   ],
   "source": [
    "%load_ext autoreload\n",
    "%autoreload 2\n",
    "%matplotlib inline\n",
    "\n",
    "# Setup logging with some hacks to work in the notebook.\n",
    "import logging\n",
    "import sys\n",
    "\n",
    "logger = logging.getLogger()\n",
    "logger.addHandler(logging.StreamHandler())\n",
    "logger.setLevel(logging.INFO)\n",
    "\n",
    "import matplotlib.pyplot as plt\n",
    "import numpy as np\n",
    "import tifffile as tiff\n",
    "import keras.backend as K\n",
    "from keras.metrics import binary_crossentropy\n",
    "from math import sqrt\n",
    "from skimage.transform import resize\n",
    "\n",
    "import sys; sys.path.append('../')\n",
    "from src.models.unet_jocic import UNet\n",
    "from src.utils.runtime import gpu_selection\n",
    "from src.utils.data import random_transforms\n",
    "from src.utils.model import dice_coef, jaccard_coef\n",
    "\n",
    "gpu_selection(visible_devices='4')\n",
    "\n",
    "logger.info('Done')"
   ]
  },
  {
   "cell_type": "code",
   "execution_count": null,
   "metadata": {
    "scrolled": true
   },
   "outputs": [
    {
     "name": "stderr",
     "output_type": "stream",
     "text": [
      "Reading images from data.\n",
      "Combining images and masks into montages.\n"
     ]
    },
    {
     "name": "stdout",
     "output_type": "stream",
     "text": [
      "[27  9 21 10 13 24 26  4  5  6 20 18  1 17 15  2 12 28 29  8 23  3 16 25\n",
      "  7 11 22 19 14  0]\n",
      "[27  9 21 10 13 24 26  4  5  6 20 18  1 17 15  2 12 28 29  8 23  3 16 25\n",
      "  7 11 22 19 14  0]\n"
     ]
    },
    {
     "name": "stderr",
     "output_type": "stream",
     "text": [
      "Combining validation images and masks into montages\n",
      "Saving model config to checkpoints/32.config.\n",
      "Training for 100 epochs.\n"
     ]
    },
    {
     "name": "stdout",
     "output_type": "stream",
     "text": [
      "Epoch 1/100\n",
      "500/500 [==============================] - 36s 71ms/step - loss: 0.6580 - dice_coef: 0.8714 - jaccard_coef: 0.6459 - val_loss: 0.5807 - val_dice_coef: 0.8785 - val_jaccard_coef: 0.6443\n",
      "\n",
      "Epoch 00001: val_loss improved from inf to 0.58071, saving model to checkpoints/32_val_loss.net\n",
      "\n",
      "Epoch 00001: loss improved from inf to 0.65797, saving model to checkpoints/32_trn_loss.net\n",
      "Epoch 2/100\n",
      "500/500 [==============================] - 28s 56ms/step - loss: 0.5344 - dice_coef: 0.9025 - jaccard_coef: 0.6762 - val_loss: 0.4883 - val_dice_coef: 0.9030 - val_jaccard_coef: 0.6735\n",
      "\n",
      "Epoch 00002: val_loss improved from 0.58071 to 0.48834, saving model to checkpoints/32_val_loss.net\n",
      "\n",
      "Epoch 00002: loss improved from 0.65797 to 0.53441, saving model to checkpoints/32_trn_loss.net\n",
      "Epoch 3/100\n",
      "500/500 [==============================] - 28s 55ms/step - loss: 0.4937 - dice_coef: 0.9147 - jaccard_coef: 0.6931 - val_loss: 0.4933 - val_dice_coef: 0.9107 - val_jaccard_coef: 0.6864\n",
      "\n",
      "Epoch 00003: val_loss did not improve from 0.48834\n",
      "\n",
      "Epoch 00003: loss improved from 0.53441 to 0.49367, saving model to checkpoints/32_trn_loss.net\n",
      "Epoch 4/100\n",
      "500/500 [==============================] - 27s 55ms/step - loss: 0.4686 - dice_coef: 0.9185 - jaccard_coef: 0.6964 - val_loss: 0.4575 - val_dice_coef: 0.9138 - val_jaccard_coef: 0.6854\n",
      "\n",
      "Epoch 00004: val_loss improved from 0.48834 to 0.45753, saving model to checkpoints/32_val_loss.net\n",
      "\n",
      "Epoch 00004: loss improved from 0.49367 to 0.46865, saving model to checkpoints/32_trn_loss.net\n",
      "Epoch 5/100\n",
      "499/500 [============================>.] - ETA: 0s - loss: 0.4623 - dice_coef: 0.9211 - jaccard_coef: 0.7007"
     ]
    }
   ],
   "source": [
    "model = UNet()\n",
    "\n",
    "exp = 32 ###\n",
    "model.checkpoint_name = 'checkpoints/{}'.format(exp)  \n",
    "\n",
    "model.config['data_path'] = 'data'\n",
    "model.config['checkpoint_path_config'] = model.checkpoint_name + '.config'\n",
    "model.config['checkpoint_path_history'] = model.checkpoint_name + '.history'\n",
    "model.config['batch_size'] = 1\n",
    "\n",
    "# model.config['prop_trn'] = 20./30\n",
    "# model.config['prop_val'] = 10./30\n",
    "# model.config['montage_trn_shape'] = (5, 4)\n",
    "# model.config['montage_val_shape'] = (5, 2)\n",
    "model.config['prop_trn'] = 30./30\n",
    "model.config['prop_val'] = 30./30\n",
    "model.config['montage_trn_shape'] = (5, 6)\n",
    "model.config['montage_val_shape'] = (6, 5)\n",
    "\n",
    "model.config['early_stop_patience'] = 30\n",
    "model.config['aug'] = False  # elastic deformation add\n",
    "model.config['steps'] = 500\n",
    "model.config['random_split'] = False\n",
    "\n",
    "\n",
    "# load_data train/val split will be same every time\n",
    "# but batch_gen will re_seed\n",
    "np.random.seed(model.config['seed'])  \n",
    "model.load_data()\n",
    "model.save_config()  \n",
    "\n",
    "model.compile(multi_gpu=False)\n",
    "# model.net.summary()\n",
    "\n",
    "model.train()"
   ]
  },
  {
   "cell_type": "code",
   "execution_count": null,
   "metadata": {},
   "outputs": [],
   "source": []
  }
 ],
 "metadata": {
  "kernelspec": {
   "display_name": "Python 3",
   "language": "python",
   "name": "python3"
  },
  "language_info": {
   "codemirror_mode": {
    "name": "ipython",
    "version": 3
   },
   "file_extension": ".py",
   "mimetype": "text/x-python",
   "name": "python",
   "nbconvert_exporter": "python",
   "pygments_lexer": "ipython3",
   "version": "3.6.9"
  }
 },
 "nbformat": 4,
 "nbformat_minor": 4
}
